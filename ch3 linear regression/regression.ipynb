{
 "cells": [
  {
   "cell_type": "code",
   "execution_count": 1,
   "metadata": {
    "collapsed": true
   },
   "outputs": [],
   "source": [
    "import pandas as pd\n",
    "from sklearn import linear_model\n",
    "import matplotlib.pyplot as plt\n",
    "import numpy as np\n",
    "# 主要参考文章 https://blog.csdn.net/u011089523/article/details/61616053\n",
    "#   https://blog.csdn.net/jacky_zhuyuanlu/article/details/78878405\n"
   ]
  },
  {
   "cell_type": "code",
   "execution_count": 2,
   "metadata": {},
   "outputs": [
    {
     "name": "stdout",
     "output_type": "stream",
     "text": [
      "   square_feet  price\n0          150   6450\n1          200   7450\n2          250   8450\n3          300   9450\n4          350  11450\n5          400  15450\n6          600  18450\n"
     ]
    },
    {
     "data": {
      "text/html": [
       "<div>\n",
       "<style scoped>\n",
       "    .dataframe tbody tr th:only-of-type {\n",
       "        vertical-align: middle;\n",
       "    }\n",
       "\n",
       "    .dataframe tbody tr th {\n",
       "        vertical-align: top;\n",
       "    }\n",
       "\n",
       "    .dataframe thead th {\n",
       "        text-align: right;\n",
       "    }\n",
       "</style>\n",
       "<table border=\"1\" class=\"dataframe\">\n",
       "  <thead>\n",
       "    <tr style=\"text-align: right;\">\n",
       "      <th></th>\n",
       "      <th>square_feet</th>\n",
       "      <th>price</th>\n",
       "    </tr>\n",
       "  </thead>\n",
       "  <tbody>\n",
       "    <tr>\n",
       "      <th>square_feet</th>\n",
       "      <td>1.000000</td>\n",
       "      <td>0.971941</td>\n",
       "    </tr>\n",
       "    <tr>\n",
       "      <th>price</th>\n",
       "      <td>0.971941</td>\n",
       "      <td>1.000000</td>\n",
       "    </tr>\n",
       "  </tbody>\n",
       "</table>\n",
       "</div>"
      ],
      "text/plain": [
       "<div>\n",
       "<style scoped>\n",
       "    .dataframe tbody tr th:only-of-type {\n",
       "        vertical-align: middle;\n",
       "    }\n",
       "\n",
       "    .dataframe tbody tr th {\n",
       "        vertical-align: top;\n",
       "    }\n",
       "\n",
       "    .dataframe thead th {\n",
       "        text-align: right;\n",
       "    }\n",
       "</style>\n",
       "<table border=\"1\" class=\"dataframe\">\n",
       "  <thead>\n",
       "    <tr style=\"text-align: right;\">\n",
       "      <th></th>\n",
       "      <th>square_feet</th>\n",
       "      <th>price</th>\n",
       "    </tr>\n",
       "  </thead>\n",
       "  <tbody>\n",
       "    <tr>\n",
       "      <th>square_feet</th>\n",
       "      <td>1.000000</td>\n",
       "      <td>0.971941</td>\n",
       "    </tr>\n",
       "    <tr>\n",
       "      <th>price</th>\n",
       "      <td>0.971941</td>\n",
       "      <td>1.000000</td>\n",
       "    </tr>\n",
       "  </tbody>\n",
       "</table>\n",
       "</div>"
      ]
     },
     "execution_count": 2,
     "metadata": {},
     "output_type": "execute_result"
    }
   ],
   "source": [
    "csv_data = 'E:/code_in_Pycharm/AnIntroductionTo' \\\n",
    "           'StatisticalLearning/ch3/data.csv'\n",
    "dataFrame = pd.read_csv(csv_data)\n",
    "print(dataFrame)\n",
    "# 检验相关性\n",
    "dataFrame.corr()\n"
   ]
  },
  {
   "cell_type": "code",
   "execution_count": 3,
   "metadata": {},
   "outputs": [
    {
     "name": "stdout",
     "output_type": "stream",
     "text": [
      "0    150\n1    200\n2    250\n3    300\n4    350\n5    400\n6    600\nName: square_feet, dtype: int64\n   square_feet\n0          150\n1          200\n2          250\n3          300\n4          350\n5          400\n6          600\n[150 200 250 300 350 400 600]\n[[150]\n [200]\n [250]\n [300]\n [350]\n [400]\n [600]]\n[28.77659574] 1771.8085106382969\n"
     ]
    },
    {
     "data": {
      "text/plain": [
       "<matplotlib.collections.PathCollection at 0x27792bc3be0>"
      ]
     },
     "execution_count": 3,
     "metadata": {},
     "output_type": "execute_result"
    },
    {
     "data": {
      "image/png": "[encoded data removed]",
      "text/plain": [
       "<Figure size 432x288 with 1 Axes>"
      ]
     },
     "metadata": {},
     "output_type": "display_data"
    }
   ],
   "source": [
    "regression = linear_model.LinearRegression()\n",
    "# print(dataFrame['square_feet'], dataFrame['price'])\n",
    "# print(dataFrame['square_feet'][1])\n",
    "# print(dataFrame)\n",
    "# pandas Series对象values属性\n",
    "regression.fit(dataFrame['square_feet'].values.reshape(-1, 1), \n",
    "               dataFrame['price'].values)\n",
    "# 等价\n",
    "# regression.fit(dataFrame[['square_feet']], dataFrame['price'])\n",
    "print(dataFrame['square_feet'])\n",
    "print(dataFrame[['square_feet']])\n",
    "print(dataFrame['square_feet'].values)\n",
    "print(dataFrame['square_feet'].values.reshape(-1, 1))\n",
    "k, b = regression.coef_, regression.intercept_\n",
    "print(k, b)\n",
    "# print(type(k))\n",
    "# print(dataFrame[['square_feet']])\n",
    "x = np.arange(600)\n",
    "%matplotlib inline\n",
    "plt.plot(x, k[0]*x + b, color='red')\n",
    "plt.scatter(dataFrame['square_feet'], dataFrame['price'])\n"
   ]
  },
  {
   "cell_type": "code",
   "execution_count": 4,
   "metadata": {},
   "outputs": [
    {
     "name": "stdout",
     "output_type": "stream",
     "text": [
      "price_using_function is 8635.026595744679\nprice_using_calculation is 8635.026595744679\n"
     ]
    }
   ],
   "source": [
    "# predict函数的使用\n",
    "area = 238.5\n",
    "price_using_function = regression.predict(np.asarray(area).reshape(-1, 1))\n",
    "print(\"price_using_function is \" + str(price_using_function[0]))\n",
    "price_using_calculation = k[0]*area + b\n",
    "print(\"price_using_calculation is \" + str(price_using_calculation))\n"
   ]
  },
  {
   "cell_type": "code",
   "execution_count": 7,
   "metadata": {},
   "outputs": [
    {
     "data": {
      "text/plain": [
       "0.944668586035943"
      ]
     },
     "execution_count": 7,
     "metadata": {},
     "output_type": "execute_result"
    }
   ],
   "source": [
    "# 对模型进行检验，越接近1越好\n",
    "regression.score(dataFrame['square_feet'].values.reshape(-1, 1), \n",
    "                 dataFrame['price'].values)\n"
   ]
  },
  {
   "cell_type": "code",
   "execution_count": null,
   "metadata": {},
   "outputs": [],
   "source": []
  }
 ],
 "metadata": {
  "kernelspec": {
   "display_name": "Python 2",
   "language": "python",
   "name": "python2"
  },
  "language_info": {
   "codemirror_mode": {
    "name": "ipython",
    "version": 2
   },
   "file_extension": ".py",
   "mimetype": "text/x-python",
   "name": "python",
   "nbconvert_exporter": "python",
   "pygments_lexer": "ipython2",
   "version": "2.7.6"
  }
 },
 "nbformat": 4,
 "nbformat_minor": 0
}
